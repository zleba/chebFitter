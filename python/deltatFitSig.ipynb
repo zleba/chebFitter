{
 "cells": [
  {
   "cell_type": "code",
   "execution_count": 1,
   "metadata": {},
   "outputs": [
    {
     "name": "stdout",
     "output_type": "stream",
     "text": [
      "Defaulting to user installation because normal site-packages is not writeable\n",
      "Requirement already satisfied: iminuit==2.2.1 in /afs/desy.de/user/k/kapitanl/.local/lib/python3.6/site-packages (2.2.1)\n",
      "Requirement already satisfied: numpy in /afs/desy.de/user/k/kapitanl/.local/lib/python3.6/site-packages (from iminuit==2.2.1) (1.19.5)\n",
      "\u001b[33mWARNING: You are using pip version 20.0.2; however, version 20.3.3 is available.\n",
      "You should consider upgrading via the '/cvmfs/belle.cern.ch/el7/externals/v01-09-01/Linux_x86_64/common/bin/python3.6m -m pip install --upgrade pip' command.\u001b[0m\n"
     ]
    }
   ],
   "source": [
    "import sys\n",
    "!{sys.executable} -m pip install iminuit==2.2.1"
   ]
  },
  {
   "cell_type": "code",
   "execution_count": 2,
   "metadata": {},
   "outputs": [],
   "source": [
    "import numpy as np\n",
    "import matplotlib.pyplot as plt\n",
    "import pandas as pd"
   ]
  },
  {
   "cell_type": "code",
   "execution_count": 3,
   "metadata": {},
   "outputs": [],
   "source": [
    "fName = '/nfs/dust/belle2/user/kapitanl/Analysis/Thesis/Hist/datafortres.csv'"
   ]
  },
  {
   "cell_type": "code",
   "execution_count": 4,
   "metadata": {},
   "outputs": [],
   "source": [
    "data = pd.read_csv(fName)"
   ]
  },
  {
   "cell_type": "code",
   "execution_count": 5,
   "metadata": {},
   "outputs": [
    {
     "name": "stdout",
     "output_type": "stream",
     "text": [
      "[[-2.95808539e+00  6.18495839e+01]\n",
      " [-3.52602825e+01  2.86546117e+01]\n",
      " [-7.81839955e+01  2.46316185e+05]\n",
      " ...\n",
      " [-2.18337588e+01  1.65001687e+01]\n",
      " [-4.11162153e+00  1.89113733e+01]\n",
      " [-1.17881615e+02  1.40098119e+02]]\n"
     ]
    },
    {
     "data": {
      "image/png": "[encoded data removed]",
      "text/plain": [
       "<Figure size 432x288 with 1 Axes>"
      ]
     },
     "metadata": {
      "needs_background": "light"
     },
     "output_type": "display_data"
    }
   ],
   "source": [
    "vData1 = data['tagvlres'].to_numpy()\n",
    "#vData1 = vData[~np.isnan(vData)] # nts: come back to this and match the N/A to corresp sigmas\n",
    "sigmas = data['tagvlerr'].to_numpy()\n",
    "#vData1.resize(min(len(vData1), len(vData1)))\n",
    "#sigmas.resize(min(len(sigmas), len(sigmas)))\n",
    "vData1.size, sigmas.size\n",
    "vData = np.column_stack((vData1,sigmas))\n",
    "\n",
    "#all the input array dimensions for the concatenation axis must match exactly,\n",
    "#but along dimension 0, the array at index 0 has size 464981 and the array at index 1 has size 466977\n",
    "plt.hist(vData[:,0], histtype='step', density = True, bins=np.linspace(-150, 150, 100))\n",
    "print(vData)"
   ]
  },
  {
   "cell_type": "code",
   "execution_count": 6,
   "metadata": {},
   "outputs": [],
   "source": [
    "def gausInt(a, b, c, d):\n",
    "     m = d / c\n",
    "     s = 1./np.sqrt(c) # ?\n",
    "     from math import erf\n",
    "     res = np.sqrt(np.pi)/(2*np.sqrt(c)) * (erf((b*c-d)/np.sqrt(c)) - erf((a*c-d)/np.sqrt(c)))\n",
    "     return res\n",
    "\n",
    "def convExpGaus(sK, tau, x):  \n",
    "     c = 1./(2*sK*sK)\n",
    "     d = 0.5*(x/sK/sK - 1/tau)\n",
    "     Const = 1./(np.sqrt(2*np.pi) *sK* tau) * np.exp(-1./2 * pow(x/sK,2) + d*d/c)\n",
    "     return Const * gausInt(0, 1e15, c, d); #tu sa vola erf \n",
    "  \n",
    "def Gauss(x,sigma, mean, ):\n",
    "    f = 1./(np.sqrt(2*np.pi)*sigma) * np.exp( -1./2 * pow((x-mean)/sigma, 2))\n",
    "    return f\n",
    "\n",
    "def mu(sigma,mu0,mu1):\n",
    "    mus = 0\n",
    "    mus = mu0 + mu1*sigma\n",
    "    return mus\n",
    "        \n",
    "def sus(sigma,s0,s1):\n",
    "    res_sus = 0\n",
    "    res_sus = s0 + s1*sigma\n",
    "    return res_sus \n",
    "        \n",
    "def fTMains(sigma,f_mu,f_sig, f_Mmax):\n",
    "    res_fTMains = 0\n",
    "    from math import erf\n",
    "    res_fTMains = (f_Mmax)*erf((f_mu-sigma)/(np.sqrt(2)*f_sig))\n",
    "    return res_fTMains\n",
    "        \n",
    "def fTBigs(sigma,f_mu,f_sig, f_Bmax):\n",
    "    res_fTBigs = 0\n",
    "    from math import erf\n",
    "    res_fTBigs = (f_Bmax)*erf((f_mu-sigma)/(np.sqrt(2)*f_sig))\n",
    "    return res_fTBigs\n",
    "        \n",
    "def cLMs(sigma,c0LM, c1LM): #pozor na obratenu hodnotu v zapise...\n",
    "    res_cLMs = 0\n",
    "    res_cLMS = 1/(c0LM + c1LM*sigma)\n",
    "    return res_cLMs\n",
    "      \n",
    "def cRMs(sigma,c0RM, c1RM): #pozor na obratenu hodnotu v zapise...\n",
    "    res_cRMs = 0\n",
    "    res_cRMS = 1/(c0RM + c1RM*sigmas)\n",
    "    return res_cRMs\n",
    "        \n",
    "def cB(sigma,c0B,c1B):\n",
    "    res_CB = 0\n",
    "    res_CB = 1/(c0B + c1B*sigma)\n",
    "    return res_CB\n",
    "\n",
    "def fun(x, pars,sigmas):\n",
    "    #fTMains = pars[\"fTMains\"]\n",
    "    f_mu = pars[\"f_mu\"]\n",
    "    f_sig = pars[\"f_sig\"]\n",
    "    f_Mmax = pars[\"f_Mmax\"]\n",
    "    fTR     = pars[\"fTR\"]\n",
    "   # sigmas  = pars[\"sigmas\"]\n",
    "    #cLMs    = pars[\"cLMs\"]\n",
    "    #cRMs    = pars[\"cRMs\"]\n",
    "   # mus     = pars[\"mus\"]\n",
    "           \n",
    "    mu0 = pars[\"mu0\"]\n",
    "    mu1 = pars[\"mu1\"]\n",
    "    s0 = pars[\"s0\"]\n",
    "    s1 = pars[\"s1\"]    \n",
    "    bigSigmaFrac = pars['bigSigmaFrac'] # Co je to?\n",
    "    \n",
    "    #fTBigs = pars['fTBigs']\n",
    "    f_Bmax = pars[\"f_Bmax\"]\n",
    "    \n",
    "    bigSigmaScale = pars['bigSigmaScale']\n",
    "    #cLBs = pars['cLBs']\n",
    "    #cRBs = pars['cRBs']\n",
    "    c0RM = pars['c0RM']\n",
    "    c1RM = pars['c1RM']\n",
    "    c0LM = pars['c0LM']\n",
    "    c1LM = pars[\"c1LM\"]\n",
    "    c0B = pars[\"c0B\"]\n",
    "    c1B = pars[\"c1B\"]\n",
    "    \n",
    "    ret = 0\n",
    "    \n",
    "    # small gauss\n",
    "    ret += (1-bigSigmaFrac) * (1-fTMains(sigmas,f_mu,f_sig, f_Mmax)) * Gauss(x,sigmas, mean=mus(sigmas,mu0,mu1) )\n",
    "    ret += (1-bigSigmaFrac) * fTMains(sigmas,f_mu,f_sig, f_Mmax)*(1.-fTR)*convExpGaus(sigmas, 1./cLMs(sigmas,c0LM, c1LM), mus(sigmas,mu0,mu1) - x)\n",
    "    ret += (1-bigSigmaFrac) * fTMains(sigmas,f_mu,f_sig, f_Mmax)*(fTR)*convExpGaus(sigmas, 1./cRMs(sigmas,c0RM, c1RM),  x - mus(sigmas,mu0,mu1) )\n",
    "    # big gauss\n",
    "    ret += bigSigmaFrac * (1-fTBigs(sigma,f_mu,f_sig, f_Bmax)) * Gauss(x, mean=mus, sigma=bigSigmaScale*sigmas)\n",
    "    ret += bigSigmaFrac * fTBigs(sigma,f_mu,f_sig, f_Bmax)*(1.-fTR)*convExpGaus(bigSigmaScale*sigmas, 1./cB(sigma,c0B,c1B), mus(sigmas,mu0,mu1) - x)\n",
    "    ret += bigSigmaFrac * fTBigs(sigma,f_mu,f_sig, f_Bmax)*(fTR)*convExpGaus(bigSigmaScale*sigmas, 1./cB(sigma,c0B,c1B),  x - mus(sigmas,mu0,mu1) )\n",
    "    \n",
    "    return ret\n",
    "\n",
    "\n"
   ]
  },
  {
   "cell_type": "code",
   "execution_count": 7,
   "metadata": {
    "scrolled": true
   },
   "outputs": [
    {
     "name": "stdout",
     "output_type": "stream",
     "text": [
      "Loading data grid\n"
     ]
    },
    {
     "ename": "TypingError",
     "evalue": "Failed in nopython mode pipeline (step: nopython frontend)\n\u001b[1m\u001b[1m\u001b[1m\u001b[1mFailed in nopython mode pipeline (step: nopython frontend)\n\u001b[1m\u001b[1mNo implementation of function Function(<built-in function setitem>) found for signature:\n \n >>> setitem(array(float64, 1d, C), Literal[int](1), array(float64, 1d, C))\n \nThere are 16 candidate implementations:\n\u001b[1m   - Of which 16 did not match due to:\n   Overload of function 'setitem': File: <numerous>: Line N/A.\n     With argument(s): '(array(float64, 1d, C), int64, array(float64, 1d, C))':\u001b[0m\n\u001b[1m    No match.\u001b[0m\n\u001b[0m\n\u001b[0m\u001b[1mDuring: typing of staticsetitem at /nfs/dust/belle2/user/kapitanl/Analysis/Thesis/chebFitter/python/nodes.py (74)\u001b[0m\n\u001b[1m\nFile \"nodes.py\", line 74:\u001b[0m\n\u001b[1mdef getPolsFast(Size, x):\n    <source elided>\n    pol[0] = 1\n\u001b[1m    pol[1] = C/2\n\u001b[0m    \u001b[1m^\u001b[0m\u001b[0m\n\n\u001b[0m\u001b[1mDuring: resolving callee type: type(CPUDispatcher(<function getPolsFast at 0x7ff72d5e6c80>))\u001b[0m\n\u001b[0m\u001b[1mDuring: typing of call at /nfs/dust/belle2/user/kapitanl/Analysis/Thesis/chebFitter/python/chebFitterSig.py (15)\n\u001b[0m\n\u001b[0m\u001b[1mDuring: resolving callee type: type(CPUDispatcher(<function getPolsFast at 0x7ff72d5e6c80>))\u001b[0m\n\u001b[0m\u001b[1mDuring: typing of call at /nfs/dust/belle2/user/kapitanl/Analysis/Thesis/chebFitter/python/chebFitterSig.py (15)\n\u001b[0m\n\u001b[1m\nFile \"chebFitterSig.py\", line 15:\u001b[0m\n\u001b[1mdef calcLoopFast(Size, dataNorm):\n    <source elided>\n    for xx in dataNorm:\n\u001b[1m        polSum += getPolsFast(Size, xx)\n\u001b[0m        \u001b[1m^\u001b[0m\u001b[0m\n",
     "output_type": "error",
     "traceback": [
      "\u001b[0;31m---------------------------------------------------------------------------\u001b[0m",
      "\u001b[0;31mTypingError\u001b[0m                               Traceback (most recent call last)",
      "\u001b[0;32m<ipython-input-7-870277cede9f>\u001b[0m in \u001b[0;36m<module>\u001b[0;34m\u001b[0m\n\u001b[1;32m      3\u001b[0m \u001b[0msLim\u001b[0m \u001b[0;34m=\u001b[0m \u001b[0;36m500\u001b[0m\u001b[0;34m\u001b[0m\u001b[0;34m\u001b[0m\u001b[0m\n\u001b[1;32m      4\u001b[0m \u001b[0msize\u001b[0m \u001b[0;34m=\u001b[0m \u001b[0mlen\u001b[0m\u001b[0;34m(\u001b[0m\u001b[0msigmas\u001b[0m\u001b[0;34m)\u001b[0m\u001b[0;34m\u001b[0m\u001b[0;34m\u001b[0m\u001b[0m\n\u001b[0;32m----> 5\u001b[0;31m \u001b[0mch\u001b[0m \u001b[0;34m=\u001b[0m \u001b[0mchf\u001b[0m\u001b[0;34m.\u001b[0m\u001b[0mchebFitter\u001b[0m\u001b[0;34m(\u001b[0m\u001b[0;36m128\u001b[0m \u001b[0;34m+\u001b[0m \u001b[0;36m1\u001b[0m\u001b[0;34m,\u001b[0m \u001b[0;34m-\u001b[0m\u001b[0mxLim\u001b[0m\u001b[0;34m,\u001b[0m \u001b[0mxLim\u001b[0m\u001b[0;34m,\u001b[0m \u001b[0msize\u001b[0m\u001b[0;34m,\u001b[0m \u001b[0;34m-\u001b[0m\u001b[0msLim\u001b[0m\u001b[0;34m,\u001b[0m \u001b[0msLim\u001b[0m\u001b[0;34m,\u001b[0m \u001b[0mvData\u001b[0m\u001b[0;34m,\u001b[0m \u001b[0mfun\u001b[0m\u001b[0;34m)\u001b[0m\u001b[0;34m\u001b[0m\u001b[0;34m\u001b[0m\u001b[0m\n\u001b[0m\u001b[1;32m      6\u001b[0m \u001b[0;31m#pars = {\"mus\" : 0, \"sigmas\" : 30,  \"fTMains\" : 0.9, \"fTR\" : 0.5,  \"cLMs\" : 0.1, \"cRMs\" : 0.1 }\u001b[0m\u001b[0;34m\u001b[0m\u001b[0;34m\u001b[0m\u001b[0;34m\u001b[0m\u001b[0m\n\u001b[1;32m      7\u001b[0m pars = {\n",
      "\u001b[0;32m/nfs/dust/belle2/user/kapitanl/Analysis/Thesis/chebFitter/python/chebFitterSig.py\u001b[0m in \u001b[0;36m__init__\u001b[0;34m(self, Size, xMin, xMax, SizeS, sMin, sMax, data, fun)\u001b[0m\n\u001b[1;32m     69\u001b[0m        \u001b[0;31m# self.data = dataSel\u001b[0m\u001b[0;34m\u001b[0m\u001b[0;34m\u001b[0m\u001b[0;34m\u001b[0m\u001b[0m\n\u001b[1;32m     70\u001b[0m \u001b[0;34m\u001b[0m\u001b[0m\n\u001b[0;32m---> 71\u001b[0;31m         \u001b[0mself\u001b[0m\u001b[0;34m.\u001b[0m\u001b[0mdataGrid\u001b[0m \u001b[0;34m=\u001b[0m \u001b[0mself\u001b[0m\u001b[0;34m.\u001b[0m\u001b[0mgetDataGrid\u001b[0m\u001b[0;34m(\u001b[0m\u001b[0mdata\u001b[0m\u001b[0;34m)\u001b[0m\u001b[0;34m\u001b[0m\u001b[0;34m\u001b[0m\u001b[0m\n\u001b[0m\u001b[1;32m     72\u001b[0m         \u001b[0mself\u001b[0m\u001b[0;34m.\u001b[0m\u001b[0mdata\u001b[0m \u001b[0;34m=\u001b[0m \u001b[0mdata\u001b[0m\u001b[0;34m\u001b[0m\u001b[0;34m\u001b[0m\u001b[0m\n\u001b[1;32m     73\u001b[0m         \u001b[0;31m# tie(dataGrid, dataGridCov) = getDataGridWithCov();\u001b[0m\u001b[0;34m\u001b[0m\u001b[0;34m\u001b[0m\u001b[0;34m\u001b[0m\u001b[0m\n",
      "\u001b[0;32m/nfs/dust/belle2/user/kapitanl/Analysis/Thesis/chebFitter/python/chebFitterSig.py\u001b[0m in \u001b[0;36mgetDataGrid\u001b[0;34m(self, data)\u001b[0m\n\u001b[1;32m     41\u001b[0m         \u001b[0mdataNorm\u001b[0m \u001b[0;34m=\u001b[0m \u001b[0;34m(\u001b[0m\u001b[0mdata\u001b[0m \u001b[0;34m-\u001b[0m \u001b[0ma\u001b[0m\u001b[0;34m)\u001b[0m \u001b[0;34m/\u001b[0m \u001b[0;34m(\u001b[0m\u001b[0mb\u001b[0m \u001b[0;34m-\u001b[0m \u001b[0ma\u001b[0m\u001b[0;34m)\u001b[0m\u001b[0;34m\u001b[0m\u001b[0;34m\u001b[0m\u001b[0m\n\u001b[1;32m     42\u001b[0m \u001b[0;34m\u001b[0m\u001b[0m\n\u001b[0;32m---> 43\u001b[0;31m         \u001b[0mpolSum\u001b[0m \u001b[0;34m=\u001b[0m \u001b[0mcalcLoopFast\u001b[0m\u001b[0;34m(\u001b[0m\u001b[0mself\u001b[0m\u001b[0;34m.\u001b[0m\u001b[0mnodes\u001b[0m\u001b[0;34m.\u001b[0m\u001b[0msize\u001b[0m\u001b[0;34m,\u001b[0m \u001b[0mdataNorm\u001b[0m\u001b[0;34m)\u001b[0m\u001b[0;34m\u001b[0m\u001b[0;34m\u001b[0m\u001b[0m\n\u001b[0m\u001b[1;32m     44\u001b[0m         \u001b[0mprint\u001b[0m\u001b[0;34m(\u001b[0m\u001b[0;34m\"Done\"\u001b[0m\u001b[0;34m)\u001b[0m\u001b[0;34m\u001b[0m\u001b[0;34m\u001b[0m\u001b[0m\n\u001b[1;32m     45\u001b[0m \u001b[0;34m\u001b[0m\u001b[0m\n",
      "\u001b[0;32m~/.local/lib/python3.6/site-packages/numba/core/dispatcher.py\u001b[0m in \u001b[0;36m_compile_for_args\u001b[0;34m(self, *args, **kws)\u001b[0m\n\u001b[1;32m    412\u001b[0m                 \u001b[0me\u001b[0m\u001b[0;34m.\u001b[0m\u001b[0mpatch_message\u001b[0m\u001b[0;34m(\u001b[0m\u001b[0mmsg\u001b[0m\u001b[0;34m)\u001b[0m\u001b[0;34m\u001b[0m\u001b[0;34m\u001b[0m\u001b[0m\n\u001b[1;32m    413\u001b[0m \u001b[0;34m\u001b[0m\u001b[0m\n\u001b[0;32m--> 414\u001b[0;31m             \u001b[0merror_rewrite\u001b[0m\u001b[0;34m(\u001b[0m\u001b[0me\u001b[0m\u001b[0;34m,\u001b[0m \u001b[0;34m'typing'\u001b[0m\u001b[0;34m)\u001b[0m\u001b[0;34m\u001b[0m\u001b[0;34m\u001b[0m\u001b[0m\n\u001b[0m\u001b[1;32m    415\u001b[0m         \u001b[0;32mexcept\u001b[0m \u001b[0merrors\u001b[0m\u001b[0;34m.\u001b[0m\u001b[0mUnsupportedError\u001b[0m \u001b[0;32mas\u001b[0m \u001b[0me\u001b[0m\u001b[0;34m:\u001b[0m\u001b[0;34m\u001b[0m\u001b[0;34m\u001b[0m\u001b[0m\n\u001b[1;32m    416\u001b[0m             \u001b[0;31m# Something unsupported is present in the user code, add help info\u001b[0m\u001b[0;34m\u001b[0m\u001b[0;34m\u001b[0m\u001b[0;34m\u001b[0m\u001b[0m\n",
      "\u001b[0;32m~/.local/lib/python3.6/site-packages/numba/core/dispatcher.py\u001b[0m in \u001b[0;36merror_rewrite\u001b[0;34m(e, issue_type)\u001b[0m\n\u001b[1;32m    355\u001b[0m                 \u001b[0;32mraise\u001b[0m \u001b[0me\u001b[0m\u001b[0;34m\u001b[0m\u001b[0;34m\u001b[0m\u001b[0m\n\u001b[1;32m    356\u001b[0m             \u001b[0;32melse\u001b[0m\u001b[0;34m:\u001b[0m\u001b[0;34m\u001b[0m\u001b[0;34m\u001b[0m\u001b[0m\n\u001b[0;32m--> 357\u001b[0;31m                 \u001b[0;32mraise\u001b[0m \u001b[0me\u001b[0m\u001b[0;34m.\u001b[0m\u001b[0mwith_traceback\u001b[0m\u001b[0;34m(\u001b[0m\u001b[0;32mNone\u001b[0m\u001b[0;34m)\u001b[0m\u001b[0;34m\u001b[0m\u001b[0;34m\u001b[0m\u001b[0m\n\u001b[0m\u001b[1;32m    358\u001b[0m \u001b[0;34m\u001b[0m\u001b[0m\n\u001b[1;32m    359\u001b[0m         \u001b[0margtypes\u001b[0m \u001b[0;34m=\u001b[0m \u001b[0;34m[\u001b[0m\u001b[0;34m]\u001b[0m\u001b[0;34m\u001b[0m\u001b[0;34m\u001b[0m\u001b[0m\n",
      "\u001b[0;31mTypingError\u001b[0m: Failed in nopython mode pipeline (step: nopython frontend)\n\u001b[1m\u001b[1m\u001b[1m\u001b[1mFailed in nopython mode pipeline (step: nopython frontend)\n\u001b[1m\u001b[1mNo implementation of function Function(<built-in function setitem>) found for signature:\n \n >>> setitem(array(float64, 1d, C), Literal[int](1), array(float64, 1d, C))\n \nThere are 16 candidate implementations:\n\u001b[1m   - Of which 16 did not match due to:\n   Overload of function 'setitem': File: <numerous>: Line N/A.\n     With argument(s): '(array(float64, 1d, C), int64, array(float64, 1d, C))':\u001b[0m\n\u001b[1m    No match.\u001b[0m\n\u001b[0m\n\u001b[0m\u001b[1mDuring: typing of staticsetitem at /nfs/dust/belle2/user/kapitanl/Analysis/Thesis/chebFitter/python/nodes.py (74)\u001b[0m\n\u001b[1m\nFile \"nodes.py\", line 74:\u001b[0m\n\u001b[1mdef getPolsFast(Size, x):\n    <source elided>\n    pol[0] = 1\n\u001b[1m    pol[1] = C/2\n\u001b[0m    \u001b[1m^\u001b[0m\u001b[0m\n\n\u001b[0m\u001b[1mDuring: resolving callee type: type(CPUDispatcher(<function getPolsFast at 0x7ff72d5e6c80>))\u001b[0m\n\u001b[0m\u001b[1mDuring: typing of call at /nfs/dust/belle2/user/kapitanl/Analysis/Thesis/chebFitter/python/chebFitterSig.py (15)\n\u001b[0m\n\u001b[0m\u001b[1mDuring: resolving callee type: type(CPUDispatcher(<function getPolsFast at 0x7ff72d5e6c80>))\u001b[0m\n\u001b[0m\u001b[1mDuring: typing of call at /nfs/dust/belle2/user/kapitanl/Analysis/Thesis/chebFitter/python/chebFitterSig.py (15)\n\u001b[0m\n\u001b[1m\nFile \"chebFitterSig.py\", line 15:\u001b[0m\n\u001b[1mdef calcLoopFast(Size, dataNorm):\n    <source elided>\n    for xx in dataNorm:\n\u001b[1m        polSum += getPolsFast(Size, xx)\n\u001b[0m        \u001b[1m^\u001b[0m\u001b[0m\n"
     ]
    }
   ],
   "source": [
    "import chebFitterSig as chf\n",
    "xLim = 500\n",
    "sLim = 500\n",
    "size = len(sigmas)\n",
    "ch = chf.chebFitter(128 + 1, -xLim, xLim, size, -sLim, sLim, vData, fun)\n",
    "#pars = {\"mus\" : 0, \"sigmas\" : 30,  \"fTMains\" : 0.9, \"fTR\" : 0.5,  \"cLMs\" : 0.1, \"cRMs\" : 0.1 }\n",
    "pars = {\n",
    "    # 'mus': 2.5998222326911318,\n",
    "    #'sigmas': 19.488840799952847,\n",
    "    'mu0': 2.5998222326911318,\n",
    "    'mu1': 2.5998222326911318,\n",
    "    's0' : 19.488840799952847,\n",
    "    's1' : 19.488840799952847,\n",
    "    #'fTMains': 0.6879121782503139,\n",
    "    'f_mu' : 0.6879121782503139,\n",
    "    'f_sig' : 0.6879121782503139,\n",
    "    'f_Mmax' : 0.6879121782503139,\n",
    "    \n",
    "     'fTR': 0.5672982488332009,\n",
    "     #'cLMs': 0.03847980216578396,\n",
    "     #'cRMs': 0.02771982014064649,\n",
    "     'bigSigmaScale': 6.947680846616044,\n",
    "     'bigSigmaFrac': 0.16756917570490554,\n",
    "     #'fTBigs': 0.6268934047143494,\n",
    "    'f_Bmax' : 0.6268934047143494,\n",
    "     #'cLBs': 0.0003812636576085269,\n",
    "     #'cRBs': 0.006550526360797996,\n",
    "     'c0RM': 0.02771982014064649,\n",
    "    'c1RM' : 0.02771982014064649,\n",
    "    'c0LM' : 0.03847980216578396,\n",
    "    'c1LM' : 0.03847980216578396,\n",
    "    'c0B' : 0.0003812636576085269,\n",
    "    'c1B' : 0.006550526360797996\n",
    "    \n",
    "}\n",
    "Limits = { \n",
    "        'mu0': (-10, 10),\n",
    "        'mu1': (-10, 10),\n",
    "        's0' : (2, 40),\n",
    "        's1' : (2, 40),\n",
    "        #'sigmas': (10, 40),\n",
    "        # 'fTMains': (0, 1),\n",
    "        'f_mu' : (0, 1),\n",
    "        'f_sig' : (0, 1),\n",
    "        'f_Mmax' : (0, 1),    \n",
    "        'fTR': (0, 1),\n",
    "        #'cLMs': (1e-5, 0.1),\n",
    "        #'cRMs': (1e-5, 0.1),\n",
    "        'c0RM': (1e-5, 0.1),\n",
    "        'c1RM' : (1e-5, 0.1),\n",
    "        'c0LM' : (1e-5, 0.1),\n",
    "        'c1LM' : (1e-5, 0.1),\n",
    "        'c0B' : (1e-5, 0.1),\n",
    "        'c1B' : (1e-5, 0.1),\n",
    "        \"bigSigmaScale\": (3, 40),\n",
    "        'bigSigmaFrac' : (0,1),\n",
    "        #'fTBigs' : (0,1),\n",
    "        'f_Bmax': (0,1)\n",
    "    \n",
    "        #'cLBs' : (1e-5, 0.05),\n",
    "        #'cRBs' : (1e-5, 0.05)\n",
    "        }\n",
    "\n",
    "\n",
    "res =  ch.fitData(pars, Limits)\n",
    "print(res)\n"
   ]
  },
  {
   "cell_type": "code",
   "execution_count": null,
   "metadata": {},
   "outputs": [],
   "source": [
    "def plotHist(d, bins, chFit, res):\n",
    "    vals, bins = np.histogram(d, bins)\n",
    "    xCnt  = (bins[1:] + bins[:-1]) / 2\n",
    "    xSize = (bins[1:] - bins[:-1]) / 2\n",
    "    \n",
    "    fig, axs = plt.subplots(2, sharex=True, gridspec_kw={'hspace': 0, 'height_ratios':[16,3]}, figsize=(12,8))\n",
    "    axs[0].set_yscale('log')\n",
    "    axs[0].errorbar(xCnt, vals, xerr=xSize, yerr=np.sqrt(vals), ls='none', fmt=\"o\")\n",
    "    \n",
    "    N = np.dot(vals, 2*xSize) \n",
    "    x = np.linspace(bins[0], bins[-1], 500)\n",
    "    y = N * chFit.funFast(x, res)\n",
    "    axs[0].plot(x, y)\n",
    "    \n",
    "    # plotRatio\n",
    "    yRat= N * chFit.funFast(xCnt, res) \n",
    "    axs[1].errorbar(xCnt, vals/ yRat, xerr=xSize, yerr=np.sqrt(vals)/yRat, ls='none', fmt=\"o\")\n",
    "    \n",
    "\n",
    "    "
   ]
  },
  {
   "cell_type": "code",
   "execution_count": 10,
   "metadata": {},
   "outputs": [
    {
     "data": {
      "image/png": "[encoded data removed]",
      "text/plain": [
       "<Figure size 864x576 with 2 Axes>"
      ]
     },
     "metadata": {
      "needs_background": "light"
     },
     "output_type": "display_data"
    }
   ],
   "source": [
    "plotHist(vData, np.linspace(-xLim, xLim, 200), ch, res)"
   ]
  },
  {
   "cell_type": "code",
   "execution_count": null,
   "metadata": {},
   "outputs": [],
   "source": []
  }
 ],
 "metadata": {
  "kernelspec": {
   "display_name": "Python 3 (Belle2)",
   "language": "python",
   "name": "python3"
  },
  "language_info": {
   "codemirror_mode": {
    "name": "ipython",
    "version": 3
   },
   "file_extension": ".py",
   "mimetype": "text/x-python",
   "name": "python",
   "nbconvert_exporter": "python",
   "pygments_lexer": "ipython3",
   "version": "3.6.10"
  }
 },
 "nbformat": 4,
 "nbformat_minor": 4
}
