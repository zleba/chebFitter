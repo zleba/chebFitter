{
 "cells": [
  {
   "cell_type": "code",
   "execution_count": 1,
   "metadata": {},
   "outputs": [
    {
     "name": "stdout",
     "output_type": "stream",
     "text": [
      "Defaulting to user installation because normal site-packages is not writeable\n",
      "Requirement already satisfied: iminuit==2.2.1 in /afs/desy.de/user/k/kapitanl/.local/lib/python3.6/site-packages (2.2.1)\n",
      "Requirement already satisfied: numpy in /afs/desy.de/user/k/kapitanl/.local/lib/python3.6/site-packages (from iminuit==2.2.1) (1.19.5)\n",
      "\u001b[33mWARNING: You are using pip version 20.0.2; however, version 21.0.1 is available.\n",
      "You should consider upgrading via the '/cvmfs/belle.cern.ch/el7/externals/v01-09-01/Linux_x86_64/common/bin/python3.6m -m pip install --upgrade pip' command.\u001b[0m\n"
     ]
    }
   ],
   "source": [
    "import sys\n",
    "!{sys.executable} -m pip install iminuit==2.2.1"
   ]
  },
  {
   "cell_type": "code",
   "execution_count": 2,
   "metadata": {},
   "outputs": [],
   "source": [
    "import numpy as np\n",
    "import matplotlib.pyplot as plt\n",
    "import pandas as pd\n",
    "\n",
    "#import rootTools as tap"
   ]
  },
  {
   "cell_type": "code",
   "execution_count": 3,
   "metadata": {},
   "outputs": [],
   "source": [
    "fName = '/nfs/dust/belle2/user/kapitanl/Analysis/Thesis/chebFitter/python/dataDPi.csv'"
   ]
  },
  {
   "cell_type": "code",
   "execution_count": 86,
   "metadata": {},
   "outputs": [
    {
     "name": "stdout",
     "output_type": "stream",
     "text": [
      "1207648\n",
      "1199809\n",
      "[ 0.10554326 -0.68960714  0.24045467 ... -0.08040476  0.06000644\n",
      "  1.75540948]\n",
      "sig nan\n",
      "mu nan\n"
     ]
    },
    {
     "data": {
      "image/png": "[encoded data removed]",
      "text/plain": [
       "<Figure size 432x288 with 1 Axes>"
      ]
     },
     "metadata": {
      "needs_background": "light"
     },
     "output_type": "display_data"
    }
   ],
   "source": [
    "data = pd.read_csv(fName)\n",
    "\n",
    "vDatamc = data['mcdeltat'].to_numpy()\n",
    "vData = data[\"deltat\"].to_numpy()\n",
    "vDataRes = np.subtract(vData,vDatamc)\n",
    "#vSig = (1e4*Data[\"TagVLBoostErr\"]).to_numpy()\n",
    "\n",
    "print(vDataRes.size)\n",
    "vDataRes = vDataRes[~np.isnan(vDataRes)]\n",
    "print(vDataRes.size)\n",
    "\n",
    "\n",
    "plt.hist(vDataRes, histtype='step', density = True, bins=np.linspace(-5, 5, 100))\n",
    "print(vDataRes)\n",
    "\n",
    "print('sig', np.quantile(vData, q =0.68))\n",
    "print('mu', np.quantile(vData, q =0.5))"
   ]
  },
  {
   "cell_type": "code",
   "execution_count": 87,
   "metadata": {},
   "outputs": [],
   "source": [
    "#vData = data['tagvlres'].to_numpy()\n",
    "#print(vData.size)\n",
    "#vData = vData[~np.isnan(vData)]\n",
    "#print(vData.size)\n",
    "#plt.hist(vData, histtype='step', density = True, bins=np.linspace(-1, 1, 10))\n",
    "#print(vData)\n",
    "\n",
    "#print('sig', np.quantile(vData, q =0.68))\n",
    "#print('mu', np.quantile(vData, q =0.5))"
   ]
  },
  {
   "cell_type": "code",
   "execution_count": 88,
   "metadata": {},
   "outputs": [],
   "source": [
    "def gausInt(a, b, c, d):\n",
    "     m = d / c\n",
    "     s = 1./np.sqrt(c)\n",
    "     from math import erf\n",
    "     res = np.sqrt(np.pi)/(2*np.sqrt(c)) * (erf((b*c-d)/np.sqrt(c)) - erf((a*c-d)/np.sqrt(c)))\n",
    "     \n",
    "     return res\n",
    "\n",
    "def convExpGaus(sK, tau, x):\n",
    "     c = 1./(2*sK*sK)\n",
    "     d = 0.5*(x/sK/sK - 1/tau)\n",
    "     Const = 1./(np.sqrt(2*np.pi) *sK* tau) * np.exp(-1./2 * pow(x/sK,2) + d*d/c)\n",
    "     return Const * gausInt(0, 1e15, c, d);\n",
    "  \n",
    "def Gauss(x, mean, sigma):\n",
    "    f = 1./(np.sqrt(2*np.pi)*sigma) * np.exp( -1./2 * pow((x-mean)/sigma, 2))\n",
    "    return f\n",
    "\n",
    "def fun(x, pars):\n",
    "    fTMains = pars[\"fTMains\"]\n",
    "    fTR     = pars[\"fTR\"]\n",
    "    sigmas  = pars[\"sigmas\"]\n",
    "    cLMs    = pars[\"cLMs\"]\n",
    "    cRMs    = pars[\"cRMs\"]\n",
    "    mus     = pars[\"mus\"]\n",
    "    \n",
    "    bigSigmaFrac = pars['bigSigmaFrac']\n",
    "    fTBigs = pars['fTBigs']\n",
    "    bigSigmaScale = pars['bigSigmaScale']\n",
    "    cLBs = pars['cLBs']\n",
    "    cRBs = pars['cRBs']\n",
    "    \n",
    "    ret = 0\n",
    "    \n",
    "    # small gauss\n",
    "    ret += (1-bigSigmaFrac) * (1-fTMains) * Gauss(x, mean=mus, sigma=sigmas)\n",
    "    ret += (1-bigSigmaFrac) * fTMains*(1.-fTR)*convExpGaus(sigmas, 1./cLMs, mus - x)\n",
    "    ret += (1-bigSigmaFrac) * fTMains*(fTR)*convExpGaus(sigmas, 1./cRMs,  x - mus )\n",
    "    # big gauss\n",
    "    ret += bigSigmaFrac * (1-fTBigs) * Gauss(x, mean=mus, sigma=bigSigmaScale*sigmas)\n",
    "    ret += bigSigmaFrac * fTBigs*(1.-fTR)*convExpGaus(bigSigmaScale*sigmas, 1./cLBs, mus - x)\n",
    "    ret += bigSigmaFrac * fTBigs*(fTR)*convExpGaus(bigSigmaScale*sigmas, 1./cRBs,  x - mus )\n",
    "    \n",
    "    return ret\n",
    "\n",
    "\n"
   ]
  },
  {
   "cell_type": "code",
   "execution_count": 131,
   "metadata": {
    "scrolled": false
   },
   "outputs": [
    {
     "name": "stdout",
     "output_type": "stream",
     "text": [
      "Loading data grid\n",
      "Done\n",
      "0.0013670646526506274\n",
      "0.0033636672005986933\n",
      "0.014095957197587326\n",
      "0.004164256728869131\n",
      "0.020314947258068893\n",
      "0.032402655227243844\n",
      "0.016539522274483746\n",
      "0.009423846054572391\n",
      "0.008433807552757105\n",
      "0.008784429216502012\n",
      "0.0068534264864627825\n",
      "{'mus': -0.021894393611257428, 'sigmas': 0.2966772286233992, 'fTMains': 0.4948062076680151, 'fTR': 0.31340430614899284, 'cLMs': 1.2707771594796793, 'cRMs': 1.262960489679062, 'bigSigmaScale': 1.788222555961523, 'bigSigmaFrac': 0.35918767594476786, 'fTBigs': 0.21443091081597934, 'cRBs': 0.32438876978700115, 'cLBs': 0.3574431443828146}\n"
     ]
    }
   ],
   "source": [
    "import chebFitter as chf\n",
    "xLim = 10\n",
    "ch = chf.chebFitter(516 + 1, -xLim, xLim, vDataRes, fun)\n",
    "#pars = {\"mus\" : -0.1, \"sigmas\" : 0.30,  \"fTMains\" : 0.4, \"fTR\" : 0.2,  \"cLMs\" : 0.5, \"cRMs\" : 0.5, 'bigSigmaScale': 2.0, 'bigSigmaFrac' :0.2,'fTBigs': 0.1, 'cRBs' :0.1, 'cLBs' : 0.1 }\n",
    "\n",
    "#for xLim = 10\n",
    "\n",
    "pars = {'mus': -0.021894393611257428, 'sigmas': 0.2966772286233992,\n",
    "        'fTMains': 0.4948062076680151, 'fTR': 0.31340430614899284, \n",
    "        'cLMs': 1.2707771594796793, 'cRMs': 1.262960489679062,\n",
    "        'bigSigmaScale': 1.788222555961523, 'bigSigmaFrac': 0.35918767594476786,\n",
    "        'fTBigs': 0.21443091081597934,\n",
    "        'cRBs': 0.32438876978700115, 'cLBs': 0.3574431443828146}\n",
    "\n",
    "#pars from mcFit\n",
    "'''pars = {'mus': 0.030187083708440823, 'sigmas': 0.2262890366929741, \n",
    " 'fTMains': 0.6879121782503139, 'fTR': 0.5672982488332009,\n",
    " 'cLMs': 3.3140215247817544, 'cRMs': 2.3873324559570195,\n",
    " 'bigSigmaScale': 6.947680846616044, 'bigSigmaFrac': 0.0,\n",
    " 'fTBigs': 0.6268934047143494, 'cLBs': 0.03283582286852792, \n",
    " 'cRBs': 0.564155326599834}'''\n",
    "\n",
    "\n",
    "'''pars = {'mus': -0.02626095363057232, 'sigmas': 0.3072386712992503, \n",
    " 'fTMains': 0.4330089152605952, 'fTR': 0.29621524420552536,\n",
    " 'cLMs': 1.0678732529526804, 'cRMs': 0.9764846844663775, \n",
    " 'bigSigmaScale': 1.881006895250959, 'bigSigmaFrac': 0.3415193416782903,\n",
    " 'fTBigs': 0.14416447268870816, \n",
    " 'cRBs': 0.205387662844106, 'cLBs': 0.26434489064239036}'''\n",
    "                        \n",
    "\n",
    "#pars = res\n",
    "Limits = { \n",
    "        'mus': (-10, 10),\n",
    "        'sigmas': (10, 40),\n",
    "        'fTMains': (0, 1),\n",
    "        'fTR': (0, 1),\n",
    "        'cLMs': (1e-5, 0.1),\n",
    "        'cRMs': (1e-5, 0.1),\n",
    "         \"bigSigmaScale\": (3, 40),\n",
    "        'bigSigmaFrac' : (0,1),\n",
    "        'fTBigs' : (0,1),\n",
    "        'cLBs' : (1e-5, 0.05),\n",
    "        'cRBs' : (1e-5, 0.05)\n",
    "        }\n",
    "\n",
    "\n",
    "res =  ch.fitData(pars)\n",
    "print(res)\n"
   ]
  },
  {
   "cell_type": "code",
   "execution_count": 126,
   "metadata": {},
   "outputs": [],
   "source": [
    "def plotHist(d, bins, chFit, res):\n",
    "    vals, bins = np.histogram(d, bins)\n",
    "    xCnt  = (bins[1:] + bins[:-1]) / 2\n",
    "    xSize = (bins[1:] - bins[:-1]) / 2\n",
    "    \n",
    "    fig, axs = plt.subplots(2, sharex=True, gridspec_kw={'hspace': 0, 'height_ratios':[16,3]}, figsize=(12,8))\n",
    "    axs[0].set_yscale('log')\n",
    "    axs[0].errorbar(xCnt, vals, xerr=xSize, yerr=np.sqrt(vals), ls='none', fmt=\"o\")\n",
    "    \n",
    "    N = np.dot(vals, 2*xSize) \n",
    "    x = np.linspace(bins[0], bins[-1], 500)\n",
    "    y = N * chFit.funFast(x, res)\n",
    "    axs[0].plot(x, y)\n",
    "    \n",
    "    # plotRatio\n",
    "    yRat= N * chFit.funFast(xCnt, res) \n",
    "    axs[1].errorbar(xCnt, vals/ yRat, xerr=xSize, yerr=np.sqrt(vals)/yRat, ls='none', fmt=\"o\")\n",
    "    "
   ]
  },
  {
   "cell_type": "code",
   "execution_count": 127,
   "metadata": {},
   "outputs": [
    {
     "data": {
      "image/png": "[encoded data removed]",
      "text/plain": [
       "<Figure size 864x576 with 2 Axes>"
      ]
     },
     "metadata": {
      "needs_background": "light"
     },
     "output_type": "display_data"
    }
   ],
   "source": [
    "plotHist(vDataRes, np.linspace(-xLim, xLim, 400), ch, res)"
   ]
  },
  {
   "cell_type": "code",
   "execution_count": null,
   "metadata": {},
   "outputs": [],
   "source": []
  },
  {
   "cell_type": "code",
   "execution_count": null,
   "metadata": {},
   "outputs": [],
   "source": []
  },
  {
   "cell_type": "code",
   "execution_count": null,
   "metadata": {},
   "outputs": [],
   "source": []
  }
 ],
 "metadata": {
  "kernelspec": {
   "display_name": "Python 3 (Belle2)",
   "language": "python",
   "name": "python3"
  },
  "language_info": {
   "codemirror_mode": {
    "name": "ipython",
    "version": 3
   },
   "file_extension": ".py",
   "mimetype": "text/x-python",
   "name": "python",
   "nbconvert_exporter": "python",
   "pygments_lexer": "ipython3",
   "version": "3.6.10"
  }
 },
 "nbformat": 4,
 "nbformat_minor": 4
}
