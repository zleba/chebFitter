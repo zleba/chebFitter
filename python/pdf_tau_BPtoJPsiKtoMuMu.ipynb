{
 "cells": [
  {
   "cell_type": "markdown",
   "metadata": {},
   "source": [
    "# Kinematic smearing"
   ]
  },
  {
   "cell_type": "code",
   "execution_count": null,
   "metadata": {},
   "outputs": [],
   "source": [
    "import sys\n",
    "\n",
    "sys.path.append(\"/nfs/dust/belle2/user/kapitanl/Analysis/PRG_MPI/thumair_jpsiks/pythonTools\")\n",
    "sys.path.append(\"/nfs/dust/belle2/user/kapitanl/Analysis/PRD_MPI/Lib_Xgboost/xgboost/python-package\")\n",
    "!{sys.executable} -m pip install iminuit==2.2.1\n",
    "\n",
    "%env TOERASEDIR=/nfs/dust/belle2/user/kapitanl/Analysis/Thesis/Hist/filesForRemove"
   ]
  },
  {
   "cell_type": "code",
   "execution_count": null,
   "metadata": {},
   "outputs": [],
   "source": [
    "import matplotlib.pyplot as plt\n",
    "import numpy as np\n",
    "import pdf\n",
    "import pandas as pd\n",
    "import rootTools as tap\n",
    "plt.rcParams[\"figure.figsize\"] = (14,10)"
   ]
  },
  {
   "cell_type": "code",
   "execution_count": null,
   "metadata": {},
   "outputs": [],
   "source": [
    "import noteBookTools as nbt\n",
    "totDicts = nbt.getDictForBDT()\n",
    "listVars = [totDict['var'] for totDict in totDicts] + ['KFold', 'TagVLBoost', 'TagVmcLBoost', 'TagVLBoostErr', 'MCDeltaT','DeltaT']\n",
    "listFormulas = [totDict['form'] for totDict in totDicts] + ['__event__ % 2', 'TagVLBoost', 'TagVmcLBoost', 'TagVLBoostErr', 'MCDeltaT', 'DeltaT']\n",
    "\n",
    "totDictKins = nbt.getDictForBToDPi(\"BPtoJPsiKtoMuMu\")\n",
    "listVarKins = [totDictKin['var'] for totDictKin in totDictKins] \n",
    "listFormulaKins = [totDictKin['form'] for totDictKin in totDictKins] "
   ]
  },
  {
   "cell_type": "code",
   "execution_count": null,
   "metadata": {},
   "outputs": [],
   "source": [
    "tupleDir = \"/nfs/dust/belle2/user/jkandra/MC13-04/BPtoJPsiKtoMuMu/\""
   ]
  },
  {
   "cell_type": "code",
   "execution_count": null,
   "metadata": {
    "scrolled": true
   },
   "outputs": [],
   "source": [
    "Data = tap.getPandaFromFiles(fileNames=[tupleDir+\"BPtoJPsiKtoMuMu.root\"],\n",
    "                               listVarFormulas=listFormulas + listFormulaKins,\n",
    "                                listVarNames=listVars + listVarKins, \n",
    "                                treeName=\"BpToJPsiK_mumu\", cut=\"isSignal\")"
   ]
  },
  {
   "cell_type": "code",
   "execution_count": null,
   "metadata": {},
   "outputs": [],
   "source": [
    "vData = Data[\"DeltaT\"].to_numpy()"
   ]
  },
  {
   "cell_type": "markdown",
   "metadata": {},
   "source": [
    "## Resolution function"
   ]
  },
  {
   "cell_type": "code",
   "execution_count": null,
   "metadata": {
    "scrolled": false
   },
   "outputs": [],
   "source": [
    "# Transform parameters from um to ps\n",
    "\n",
    "beta = 276.11e-3\n",
    "c = 299.792458 # um/ps\n",
    "bgc = beta/(1 - beta**2)**0.5 * c\n",
    "print('bgc', bgc)\n",
    "\n",
    "\n",
    "'''pars = {\n",
    "   'mus': -0.07029368571683735 / bgc,\n",
    "   'sigmas': 0.3918262885418164/ bgc,\n",
    "   'fTMains': 0.1402839955940452, \n",
    "   'fTR': 0.3601912814334793,\n",
    "   'cLMs': 0.1036841394460027 * bgc,\n",
    "   'cRMs': 0.06803381698743874 * bgc,\n",
    "   'bigSigmaScale': 2.1767453589245225,\n",
    "   'bigSigmaFrac': 0.6036344190332074,\n",
    "   'fTBigs': 0.6268934047143494,\n",
    "   'cLBs': 0.5720441320352365 * bgc,\n",
    "   'cRBs': 0.48831611234179223 * bgc\n",
    "}\n",
    "'''\n",
    "#parameters from mcDeltaT - DeltaT fit : already the right units\n",
    "pars = {'mus': -0.037232849508812504, 'sigmas': 0.32542267715086787, \n",
    "        'fTMains': 0.38086008302205393, 'fTR': 0.28895713221016794,\n",
    "        'fTBigs': 0.11060986252655372, 'cLMs': 0.8235611642967624, \n",
    "        'cRMs': 0.6308800635438944, 'cLBs': 0.12373324726229562, \n",
    "        'cRBs': 0.06925722140729744, 'bigSigmaScale': 2.176880399241115,\n",
    "        'bigSigmaFrac': 0.32378667002450845}\n",
    "\n",
    "print(pars)\n",
    "\n",
    "# Dummy parameters for no resolution smearing\n",
    "pars0 = pars.copy()\n",
    "pars0[\"mus\"] = 0\n",
    "pars0[\"sigmas\"] = 0.0001\n",
    "pars0[\"fTMains\"] = 0\n",
    "pars0[\"bigSigmaFrac\"] = 0\n",
    "\n",
    "\n",
    "xLim = 30\n",
    "x = np.linspace(-xLim, xLim, 350)\n",
    "\n",
    "#MC histogram\n",
    "hMC = np.histogram((vData), bins=x)\n",
    "xH = (hMC[1][1:] + hMC[1][:-1]) / 2\n",
    "xSize = (xH[1:] - xH[:-1]) / 2\n",
    "\n",
    "\n",
    "#scaling factor for multiplying the normalized function \n",
    "\n",
    "C = 2*xSize[0]*np.sum(hMC[0]) \n",
    "\n",
    "y1 = np.vectorize(lambda t : pdf.resFun(t, pars))(xH)\n",
    "#y = np.vectorize(lambda t : pdf.resFun(t, pars))(x)\n",
    "y0 = np.vectorize(lambda t : pdf.resFun(t, pars0))(xH)\n",
    "\n",
    "\n",
    "\n",
    "plt.plot(xH, hMC[0], label=\"MC\")\n",
    "#plt.plot(xH,C*y )\n",
    "plt.plot(xH, C*y1)\n",
    "plt.plot(xH, C*y0)\n",
    "\n",
    "plt.legend()\n",
    "plt.yscale(\"log\")\n",
    "plt.xlabel(\"dt [ps]\")\n",
    "\n",
    "\n",
    "dirName = \"/nfs/dust/belle2/user/kapitanl/Analysis/Thesis/Hist/\"\n",
    "plt.savefig(dirName+\"BPtoJPsiKtoMuMu_pdfTest.png\", bbox_inches='tight')"
   ]
  },
  {
   "cell_type": "markdown",
   "metadata": {},
   "source": [
    "## B Decays"
   ]
  },
  {
   "cell_type": "markdown",
   "metadata": {},
   "source": [
    "Plot of the B-decay time for various thetaCMS, looks like huge differences"
   ]
  },
  {
   "cell_type": "code",
   "execution_count": null,
   "metadata": {},
   "outputs": [],
   "source": [
    "xLim = 5\n",
    "x    = np.linspace(-4*xLim, 4*xLim, 500 )\n",
    "tau = 1.520\n",
    "y0   = np.vectorize(lambda t : pdf.funDecayTheta(t, pars, tau=tau, theta=0))(x)\n",
    "yOrt = np.vectorize(lambda t : pdf.funDecayTheta(t, pars, tau=tau, theta=np.pi/2))(x)\n",
    "y1   = np.vectorize(lambda t : pdf.funDecayTheta(t, pars, tau=tau, theta=np.pi))(x)\n",
    "#yOrtR= np.vectorize(lambda t : pdf.funDecayTheta(t, pars0, np.pi/2))(x)\n",
    "\n",
    "plt.plot(x, y0,   label=r'$\\theta=0$')\n",
    "plt.plot(x, yOrt, label=r'$\\theta=\\pi/2$')\n",
    "plt.plot(x, y1,   label=r'$\\theta=\\pi$')\n",
    "plt.ylabel('$dp/dt$ [ps$^{-1}$]')\n",
    "plt.xlabel(r'$\\Delta t$ [ps]')\n",
    "plt.legend()\n",
    "plt.yscale(\"log\")"
   ]
  },
  {
   "cell_type": "markdown",
   "metadata": {},
   "source": [
    "Plot the comparizon of the theta-integrated scenario and the case with no kin-smearing effect"
   ]
  },
  {
   "cell_type": "code",
   "execution_count": null,
   "metadata": {
    "scrolled": false
   },
   "outputs": [],
   "source": [
    "x    = np.linspace(-4*xLim, 4*xLim, 200 )\n",
    "yOrt  = np.vectorize(lambda t : pdf.funDecayTheta(t, pars, tau=1.6, theta=np.pi/2))(xH)\n",
    "yTest = np.vectorize(lambda t : pdf.funDecayTheta(t, pars, tau=1.003*tau, theta=np.pi/2))(xH)\n",
    "ySm   = np.vectorize(lambda t : pdf.funDecay(t, pars, tau=tau))(xH)\n",
    "yTest2 =np.vectorize(lambda t : pdf.funDecayTheta(t, pars, tau = 1.4,theta=np.pi/2))(xH)\n",
    "\n",
    "\n",
    "hMC = np.histogram((vData), bins=x)\n",
    "\n",
    "xH = (hMC[1][1:] + hMC[1][:-1]) / 2\n",
    "xSize = (x[1:] - x[:-1]) / 2\n",
    "\n",
    "\n",
    "plt.plot()\n",
    "plt.subplots_adjust(hspace=0)\n",
    "ax = plt.subplot(211)\n",
    "\n",
    "C = 2*xSize[0]*np.sum(hMC[0]) \n",
    "plt.plot(xH, hMC[0], label=\"MC\")\n",
    "plt.plot(xH, C*yOrt, label='without kin. smearing')\n",
    "plt.plot(xH, C*ySm, label='with kin smearing')\n",
    "plt.plot(xH, C*yTest, label='test curve')\n",
    "plt.plot(xH, C*yTest2, label='test curve2')\n",
    "#plt.plot(x, 1500*yTest, label='test curve') x = 1\n",
    "  \n",
    "        \n",
    "                \n",
    "plt.yscale(\"log\")\n",
    "#plt.xlabel(\"dt [ps]\")\n",
    "plt.legend()\n",
    "plt.subplot(212, sharex=ax)\n",
    "\n",
    "\n",
    "#plt.plot(x, ySm / yOrt, color='C1')\n",
    "#plt.plot(x, yTest / yOrt, color='C2')\n",
    "\n",
    "\n",
    "plt.plot(xH, C*yOrt/hMC[0], color = 'C1', label = 'K*(y(tau=1.60,theta = pi/2)) / MC')\n",
    "plt.plot(xH, C*ySm / hMC[0], color = 'C2', label = 'K*(y(tau=1.520)) / MC')\n",
    "plt.plot(xH, C*yTest / hMC[0], color = 'C3', label = 'K*(y(tau=1.525,theta = pi/2)) / MC')\n",
    "plt.plot(xH, C*yTest2 / hMC[0], color = 'C4', label = 'K*(y(tau=1.4,theta = pi/2)) / MC')\n",
    "\n",
    "plt.xlabel(\"dt [ps]\")\n",
    "plt.legend()\n",
    "plt.ylabel(\"ratio\")\n",
    "\n",
    "dirName = \"/nfs/dust/belle2/user/kapitanl/Analysis/Thesis/Hist/\"\n",
    "plt.savefig(dirName+\"BPtoJPsiKtoMuMu_BDecays.png\", bbox_inches='tight')"
   ]
  },
  {
   "cell_type": "markdown",
   "metadata": {},
   "source": [
    "# Fit"
   ]
  },
  {
   "cell_type": "code",
   "execution_count": null,
   "metadata": {},
   "outputs": [],
   "source": [
    "# Resolution function convoluted with (complex) exp\n",
    "def FunT(x, pars2, c):\n",
    "    fTMains = pars2[\"fTMains\"]\n",
    "    fTR     = pars2[\"fTR\"]\n",
    "    sigmas  = pars2[\"sigmas\"]\n",
    "    cLMs    = pars2[\"cLMs\"]\n",
    "    cRMs    = pars2[\"cRMs\"]\n",
    "    mus     = pars2[\"mus\"]\n",
    "    \n",
    "    bigSigmaFrac = pars2['bigSigmaFrac']\n",
    "    fTBigs = pars2['fTBigs']\n",
    "    bigSigmaScale = pars2['bigSigmaScale']\n",
    "    cLBs = pars2['cLBs']\n",
    "    cRBs = pars2['cRBs']\n",
    "    \n",
    "    ret = 0\n",
    "    \n",
    "    # small gauss\n",
    "    ret += (1-bigSigmaFrac) * (1-fTMains) * pdf.GE_conv([mus, sigmas], [0,c], x)\n",
    "    ret += (1-bigSigmaFrac) * fTMains*(1.-fTR)* pdf.GEE_conv([mus,sigmas], [mus, -cLMs], [0, c], x) \n",
    "    ret += (1-bigSigmaFrac) * fTMains*(fTR)* pdf.GEE_conv([mus,sigmas], [mus, +cRMs], [0, c], x)\n",
    "    # big gauss\n",
    "    ret += bigSigmaFrac * (1-fTBigs) * pdf.GE_conv([mus, bigSigmaScale*sigmas], [0, c], x)\n",
    "    ret += bigSigmaFrac * fTBigs*(1.-fTR)* pdf.GEE_conv([mus,bigSigmaScale*sigmas], [mus, -cLBs], [0, c], x)\n",
    "    ret += bigSigmaFrac * fTBigs*(fTR)* pdf.GEE_conv([mus,bigSigmaScale*sigmas], [mus, +cRBs], [0, c], x)\n",
    "    \n",
    "    return ret\n",
    "\n",
    "def fun(x, pars2, theta=np.pi/2, K=0.22359):\n",
    "    #funDecayTheta(x, pars, tau=1.520, theta=np.pi/2, K=0.22359):\n",
    "    #K = 0.22534  # currently hard-coded\n",
    "    #K = 0.22359  # using nominal BoostVector and Y4S mass\n",
    "    #tau = 1.520  # ps\n",
    "    \n",
    "    tau = pars2['tau']\n",
    "    cp = +1./tau * 1./(1 + K*np.cos(theta))\n",
    "    cm = -1./tau * 1./(1 - K*np.cos(theta))\n",
    "\n",
    "    r = 1./(2*tau) * (1./abs(cp)*FunT(x, pars2, cp) + 1./abs(cm)*FunT(x, pars2, cm))\n",
    "    return r"
   ]
  },
  {
   "cell_type": "code",
   "execution_count": null,
   "metadata": {},
   "outputs": [],
   "source": [
    "import chebFitter as chf\n",
    "xLim = 12\n",
    "ch = chf.chebFitter(128 + 1, -xLim, xLim, vData, fun)\n",
    "#pars = {\"mus\" : 0, \"sigmas\" : 30,  \"fTMains\" : 0.9, \"fTR\" : 0.5, \"fTBigs\":0.1, \"cLMs\" : 0.1, \"cRMs\" : 0.1, \"cLBs\":0.1, \"cRBs\":0.1, \"bigSigmaScale\":5, \"bigSigmaFrac\":0.1 }\n",
    "# only fitting tau\n",
    "'''pars2 = {'mus': -0.037232849508812504, 'sigmas': 0.32542267715086787, \n",
    "        'fTMains': 0.38086008302205393, 'fTR': 0.28895713221016794,\n",
    "        'fTBigs': 0.11060986252655372, 'cLMs': 0.8235611642967624, \n",
    "        'cRMs': 0.6308800635438944, 'cLBs': 0.12373324726229562, \n",
    "        'cRBs': 0.06925722140729744, 'bigSigmaScale': 2.176880399241115,\n",
    "        'bigSigmaFrac': 0.32378667002450845, 'tau' : 1.65476886953899}'''\n",
    "#pars2 = res\n",
    "\n",
    "#fitting all parameters\n",
    "'''pars2 = {'mus': -0.037232849508812504, 'sigmas': 0.32542267715086787, \n",
    "'fTMains': 0.38086008302205393, 'fTR': 0.28895713221016794,\n",
    "'fTBigs': 0.11060986252655372, 'cLMs': 0.8235611642967624,\n",
    "'cRMs': 0.6308800635438944, 'cLBs': 0.14316743524154463,\n",
    "'cRBs': 0.06925722140729744, 'bigSigmaScale': 2.176880399241115, \n",
    "'bigSigmaFrac': 0.32378667002450845, 'tau': 1.65476886953899}'''\n",
    "\n",
    "#std\n",
    "'''std= {0.003464449200278825\n",
    "0.008873194618030013\n",
    "0.008297554894066455\n",
    "0.007746967696197398\n",
    "0.01025102514957778\n",
    "0.02851196680554677\n",
    "0.07198324026156035\n",
    "0.1445201260263692\n",
    "0.0075705493956506895\n",
    "0.12560478669548777\n",
    "0.0723384994167527\n",
    "0.006542479570769367}'''\n",
    "\n",
    "Limits = {'mus': (-10, 10),\n",
    "        'sigmas': (10, 40),\n",
    "        'fTMains': (0, 1),\n",
    "        'fTR': (0, 1),\n",
    "        'cLMs': (1e-5, 0.1),\n",
    "        'cRMs': (1e-5, 0.1),\n",
    "         \"bigSigmaScale\": (3, 40),\n",
    "        'bigSigmaFrac' : (0,1),\n",
    "        'fTBigs' : (0,1),\n",
    "        'cLBs' : (1e-5, 0.05),\n",
    "        'cRBs' : (1e-5, 0.05),\n",
    "        'tau' : (1.0 , 2.0)}\n",
    "\n",
    "\n",
    "res =  ch.fitData(pars2)\n",
    "print(res)"
   ]
  },
  {
   "cell_type": "code",
   "execution_count": null,
   "metadata": {},
   "outputs": [],
   "source": [
    "def plotHist(d, bins, chFit, res):\n",
    "    vals, bins = np.histogram(d, bins)\n",
    "    xCnt  = (bins[1:] + bins[:-1]) / 2\n",
    "    xSize = (bins[1:] - bins[:-1]) / 2\n",
    "    \n",
    "    fig, axs = plt.subplots(2, sharex=True, gridspec_kw={'hspace': 0, 'height_ratios':[16,3]}, figsize=(12,8))\n",
    "    axs[0].set_yscale('log')\n",
    "    axs[0].errorbar(xCnt, vals, xerr=xSize, yerr=np.sqrt(vals), ls='none', fmt=\"o\")\n",
    "    \n",
    "    N = np.dot(vals, 2*xSize) \n",
    "    x = np.linspace(bins[0], bins[-1], 100)\n",
    "    y = N * chFit.funFast(x, res)\n",
    "    axs[0].plot(x, y, label='B0toJPsiKStoEE - tau = '+str(pars2['tau']) + ' ps')\n",
    "    axs[0].legend(loc='lower center', shadow=True, fontsize='x-large')\n",
    "    # plotRatio\n",
    "    yRat= N * chFit.funFast(xCnt, res) \n",
    "    axs[1].errorbar(xCnt, vals/ yRat, xerr=xSize, yerr=np.sqrt(vals)/yRat, ls='none', fmt=\"o\")\n",
    "\n",
    "    dirName = \"/nfs/dust/belle2/user/kapitanl/Analysis/Thesis/Hist/\"\n",
    "    fig.savefig(dirName+\"BPtoJPsiKtoMuMu_pdf_Tau.png\", bbox_inches='tight')\n"
   ]
  },
  {
   "cell_type": "code",
   "execution_count": null,
   "metadata": {},
   "outputs": [],
   "source": [
    "plotHist(vData, np.linspace(-xLim, xLim, 200), ch, res)"
   ]
  },
  {
   "cell_type": "markdown",
   "metadata": {},
   "source": [
    "## B Oscilations"
   ]
  },
  {
   "cell_type": "markdown",
   "metadata": {},
   "source": [
    "Let's first check the behaviour of the functions.\n",
    "\n",
    "Notice that the real part is cosine and imaginery sine"
   ]
  },
  {
   "cell_type": "code",
   "execution_count": null,
   "metadata": {},
   "outputs": [],
   "source": [
    "#Checking the value at dt = 0 (should be equal) ---> isnt\n",
    "print(pdf.funDecay(0, pars0), pdf.funOsc(0, pars0).real)\n",
    "\n",
    "import scipy.integrate\n",
    "\n",
    "#Checking the integrals\n",
    "\n",
    "dm = 0.510\n",
    "C = 1 + tau**2 * dm**2\n",
    "print(C)\n",
    "\n",
    "print(scipy.integrate.quad(lambda t: C*pdf.funOscTheta(t, pars0, tau=tau, dm=dm, theta=np.pi/2).real, -200, 200))\n",
    "print(scipy.integrate.quad(lambda t: C*pdf.funOscTheta(t, pars, tau=tau, dm=dm, theta=np.pi/2).real, -20, 20))\n",
    "print(scipy.integrate.quad(lambda t: C*pdf.funOsc(t, pars0, tau=tau, dm=dm).real, -1, 1))\n",
    "print(scipy.integrate.quad(lambda t: C*pdf.funOsc(t, pars,  tau=tau, dm=dm).real, -1, 1))"
   ]
  },
  {
   "cell_type": "markdown",
   "metadata": {},
   "source": [
    "Composing the full function"
   ]
  },
  {
   "cell_type": "code",
   "execution_count": null,
   "metadata": {},
   "outputs": [],
   "source": [
    "# exp(-|dt|/tau) * (1 + cos dm t)\n",
    "def fullPDFnoKin(t, pars):\n",
    "    C = 1 + 1./(1+tau**2 * dm**2)\n",
    "    return 1/C * (pdf.funDecayTheta(t, pars, tau=tau, theta=np.pi/2) + pdf.funOscTheta(t, pars, tau=tau, dm=dm, theta=np.pi/2).real)\n",
    "\n",
    "def fullPDF(t, pars):\n",
    "    C = 1 + 1./(1+tau**2 * dm**2)\n",
    "    return 1/C * (pdf.funDecay(t, pars, tau=tau) + pdf.funOscTheta(t, pars, tau=tau, dm=dm).real)\n",
    "\n",
    "\n",
    "yOrt0 = np.vectorize(lambda t : fullPDFnoKin(t, pars0) )(x)\n",
    "yOrt  = np.vectorize(lambda t : fullPDFnoKin(t, pars) )(x)\n",
    "ySm   = np.vectorize(lambda t : fullPDF(t, pars) )(x)\n",
    "plt.plot(x, yOrt0, label='Original true-dist.')\n",
    "plt.plot(x, yOrt, label='with resFun')\n",
    "plt.plot(x, ySm, label='with resFun+kin. sm.')\n",
    "plt.yscale(\"log\")\n",
    "plt.xlabel(\"dt [ps]\")\n",
    "plt.legend()\n",
    "plt.savefig('mixing.pdf')\n",
    "plt.show()\n",
    "\n",
    "\n",
    "# Impact of the kinematic term\n",
    "\n",
    "plt.plot(x, ySm/yOrt, color='C2')\n",
    "plt.xlabel(\"dt [ps]\")\n",
    "plt.ylabel(\"ratio of kinSmearing impact\")\n",
    "plt.ylim(0.9, 1.4)\n",
    "\n",
    "# Check normalization\n",
    "print('Normalizations:', np.sum(yOrt0)*(x[1]-x[0]), np.sum(yOrt)*(x[1]-x[0]), np.sum(ySm)*(x[1]-x[0]))\n"
   ]
  },
  {
   "cell_type": "markdown",
   "metadata": {},
   "source": [
    "Plot with approximate cumulative statistic, assuming 1 bilion B-B pairs and BR=1e-4"
   ]
  },
  {
   "cell_type": "code",
   "execution_count": null,
   "metadata": {},
   "outputs": [],
   "source": [
    "plt.plot(x, np.cumsum(ySm)/ np.cumsum(ySm)[-1] * 1e9 * 1e-4 )\n",
    "plt.yscale(\"log\")\n",
    "plt.xlabel(\"dt [ps]\")\n",
    "plt.ylabel(\"Cumulative nunber of events\")"
   ]
  },
  {
   "cell_type": "code",
   "execution_count": null,
   "metadata": {},
   "outputs": [],
   "source": []
  },
  {
   "cell_type": "code",
   "execution_count": null,
   "metadata": {},
   "outputs": [],
   "source": []
  }
 ],
 "metadata": {
  "kernelspec": {
   "display_name": "Python 3 (Belle2)",
   "language": "python",
   "name": "python3"
  },
  "language_info": {
   "codemirror_mode": {
    "name": "ipython",
    "version": 3
   },
   "file_extension": ".py",
   "mimetype": "text/x-python",
   "name": "python",
   "nbconvert_exporter": "python",
   "pygments_lexer": "ipython3",
   "version": "3.6.10"
  }
 },
 "nbformat": 4,
 "nbformat_minor": 4
}
