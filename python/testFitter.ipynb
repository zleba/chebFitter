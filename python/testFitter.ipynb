{
 "cells": [
  {
   "cell_type": "markdown",
   "metadata": {},
   "source": [
    "# Notebook to demonstrate the Chebyshav-based likelihood fiting"
   ]
  },
  {
   "cell_type": "markdown",
   "metadata": {},
   "source": [
    "First import few libraries\n",
    "Note, that for the fitter itself, also the library `numba` and `iminuit` must be installed"
   ]
  },
  {
   "cell_type": "code",
   "execution_count": null,
   "metadata": {},
   "outputs": [],
   "source": [
    "import sys\n",
    "\n",
    "import numpy as np\n",
    "import matplotlib.pyplot as plt\n",
    "\n",
    "# To automaticaly reload when library-code is modified\n",
    "%load_ext autoreload\n",
    "%autoreload 2\n",
    "\n",
    "import chebFitter as chf\n",
    "import chebFitter2D as chf2D"
   ]
  },
  {
   "cell_type": "markdown",
   "metadata": {},
   "source": [
    "## 1D fit"
   ]
  },
  {
   "cell_type": "markdown",
   "metadata": {},
   "source": [
    "Generate the random Gaussian numbers between -1 and 1"
   ]
  },
  {
   "cell_type": "code",
   "execution_count": null,
   "metadata": {},
   "outputs": [],
   "source": [
    "data = np.random.normal(loc=0.0, scale=1.0, size=10000)\n",
    "data = data[ (-1 < data) & (data < 1)]\n"
   ]
  },
  {
   "cell_type": "markdown",
   "metadata": {},
   "source": [
    "Define the Gaussian function (compiled for better performance)"
   ]
  },
  {
   "cell_type": "code",
   "execution_count": null,
   "metadata": {},
   "outputs": [],
   "source": [
    "def myGauss(x, pars):\n",
    "    from math import erf\n",
    "    #return 0.5\n",
    "    mean  = pars[\"mean\"]\n",
    "    sigma = pars[\"sigma\"]\n",
    "    xMin, xMax = -1, 1\n",
    "    a = xMin - mean\n",
    "    b = xMax - mean\n",
    "    # the normalization to 1 is needed only for the slow fit option\n",
    "    N =  np.sqrt(np.pi/2) * sigma* ( erf(b/np.sqrt(2)/sigma)  - erf(a/np.sqrt(2)/sigma) )\n",
    "    f = 1./N * np.exp( -1./2 * pow((x-mean)/sigma, 2))\n",
    "    assert(f >= 0)\n",
    "    return f\n",
    "\n"
   ]
  },
  {
   "cell_type": "code",
   "execution_count": null,
   "metadata": {},
   "outputs": [],
   "source": [
    "# check that it works\n",
    "myGauss(1, {\"mean\": 0, \"sigma\" : 0.3})"
   ]
  },
  {
   "cell_type": "markdown",
   "metadata": {},
   "source": [
    "Init and test the 1D Chebyshev fitter"
   ]
  },
  {
   "cell_type": "code",
   "execution_count": null,
   "metadata": {},
   "outputs": [],
   "source": [
    "ch = chf.chebFitter(32 + 1, -1, 1, data, myGauss)\n",
    "\n",
    "pars = {\"mean\" : 0, \"sigma\" : 1}\n",
    "\n",
    "print('Slow likelihood is', ch.getLogLikelihoodSlow(pars))\n",
    "print('Fast likelihood is', ch.getLogLikelihoodFast(pars))\n",
    "print('Eval is', ch.eval(pars))"
   ]
  },
  {
   "cell_type": "code",
   "execution_count": null,
   "metadata": {},
   "outputs": [],
   "source": [
    "pars = {\"mean\": 0, \"sigma\" : 1}\n",
    "res =  ch.fitData(pars) # by default useCheb = True\n",
    "print('Fast fitter result', res)\n",
    "\n",
    "res =  ch.fitData(pars, useCheb = False) \n",
    "print('Slow fitter result', res)"
   ]
  },
  {
   "cell_type": "markdown",
   "metadata": {},
   "source": [
    "Plot the histogram with the result"
   ]
  },
  {
   "cell_type": "code",
   "execution_count": null,
   "metadata": {},
   "outputs": [],
   "source": [
    "plt.figure(figsize=(12,8))\n",
    "plt.hist(data, histtype='step', density = True, bins=10)\n",
    "x  = np.linspace(-1, 1, 100)\n",
    "y  = np.vectorize(lambda a: myGauss(a, res))(x)\n",
    "yCh= ch.funFast(x, res)\n",
    "plt.plot(x, yCh)"
   ]
  },
  {
   "cell_type": "markdown",
   "metadata": {},
   "source": [
    "## 2D fit\n",
    "\n",
    "First generate the random distribution"
   ]
  },
  {
   "cell_type": "code",
   "execution_count": null,
   "metadata": {},
   "outputs": [],
   "source": [
    "dataX = np.random.normal(loc=0.0, scale=1.0, size=1000000)\n",
    "dataY = np.random.normal(loc=0.3, scale=0.7, size=1000000)\n",
    "dataX = dataX[ (-1 < dataX) & (dataX < 1)]\n",
    "dataY = dataY[ (-1 < dataY) & (dataY < 1)]\n",
    "dataX.resize(min(len(dataX), len(dataY)))\n",
    "dataY.resize(min(len(dataX), len(dataY)))\n",
    "dataX.size, dataY.size\n",
    "data2 = np.column_stack((dataX,dataY))"
   ]
  },
  {
   "cell_type": "code",
   "execution_count": null,
   "metadata": {},
   "outputs": [],
   "source": [
    "def myGauss2D(x, pars):\n",
    "    parX = { \"mean\"  : pars[\"meanX\"],\n",
    "            \"sigma\" : pars[\"sigmaX\"] }\n",
    "    parY = { \"mean\"  : pars[\"meanY\"],\n",
    "            \"sigma\" : pars[\"sigmaY\"] }\n",
    "    return myGauss(x[0], parX) * myGauss(x[1], parY)"
   ]
  },
  {
   "cell_type": "code",
   "execution_count": null,
   "metadata": {},
   "outputs": [],
   "source": [
    "ch2 = chf2D.chebFitter(32 + 1, -1, 1, 32+1, -1, 1, data2, myGauss2D)\n",
    "\n",
    "pars = {\"meanX\" : 0.0, \"sigmaX\" : 1.1,\n",
    "        \"meanY\" : 0.3, \"sigmaY\" : 1.3}\n",
    "\n",
    "print('Slow likelihood is', ch2.getLogLikelihoodSlow(pars))\n",
    "print('Fast likelihood is', ch2.getLogLikelihoodFast(pars))\n",
    "print('Eval is', ch2.eval(pars))"
   ]
  },
  {
   "cell_type": "code",
   "execution_count": null,
   "metadata": {},
   "outputs": [],
   "source": [
    "res2 =  ch2.fitData(pars) # By default is chebFit\n",
    "print('Fast fitter result', res2)\n",
    "\n",
    "#res2 =  ch2.fitData(pars, useCheb = False) \n",
    "#print('Slow fitter result', res2)"
   ]
  },
  {
   "cell_type": "code",
   "execution_count": null,
   "metadata": {},
   "outputs": [],
   "source": [
    "plt.figure(figsize=(12,8))\n",
    "plt.hist(data2[:,0], histtype='step', density = True, bins=40)\n",
    "x  = np.linspace(-1, 1, 100)\n",
    "yCh= ch2.funFastProjX(x, res2)\n",
    "plt.plot(x, yCh)"
   ]
  }
 ],
 "metadata": {
  "kernelspec": {
   "display_name": "Python 3",
   "language": "python",
   "name": "python3"
  },
  "language_info": {
   "codemirror_mode": {
    "name": "ipython",
    "version": 3
   },
   "file_extension": ".py",
   "mimetype": "text/x-python",
   "name": "python",
   "nbconvert_exporter": "python",
   "pygments_lexer": "ipython3",
   "version": "3.8.5"
  }
 },
 "nbformat": 4,
 "nbformat_minor": 4
}
