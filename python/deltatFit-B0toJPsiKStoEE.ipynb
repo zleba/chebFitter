{
 "cells": [
  {
   "cell_type": "code",
   "execution_count": 1,
   "metadata": {},
   "outputs": [
    {
     "name": "stdout",
     "output_type": "stream",
     "text": [
      "Defaulting to user installation because normal site-packages is not writeable\n",
      "Requirement already satisfied: iminuit==2.2.1 in /afs/desy.de/user/k/kapitanl/.local/lib/python3.6/site-packages (2.2.1)\n",
      "Requirement already satisfied: numpy in /afs/desy.de/user/k/kapitanl/.local/lib/python3.6/site-packages (from iminuit==2.2.1) (1.19.5)\n",
      "\u001b[33mWARNING: You are using pip version 20.0.2; however, version 21.0.1 is available.\n",
      "You should consider upgrading via the '/cvmfs/belle.cern.ch/el7/externals/v01-09-01/Linux_x86_64/common/bin/python3.6m -m pip install --upgrade pip' command.\u001b[0m\n",
      "env: TOERASEDIR=/nfs/dust/belle2/user/kapitanl/Analysis/Thesis/Hist/filesForRemove\n"
     ]
    }
   ],
   "source": [
    "import sys\n",
    "\n",
    "sys.path.append(\"/nfs/dust/belle2/user/kapitanl/Analysis/PRG_MPI/thumair_jpsiks/pythonTools\")\n",
    "sys.path.append(\"/nfs/dust/belle2/user/kapitanl/Analysis/PRD_MPI/Lib_Xgboost/xgboost/python-package\")\n",
    "!{sys.executable} -m pip install iminuit==2.2.1\n",
    "\n",
    "%env TOERASEDIR=/nfs/dust/belle2/user/kapitanl/Analysis/Thesis/Hist/filesForRemove"
   ]
  },
  {
   "cell_type": "code",
   "execution_count": 2,
   "metadata": {},
   "outputs": [
    {
     "name": "stdout",
     "output_type": "stream",
     "text": [
      "Welcome to JupyROOT 6.20/04\n"
     ]
    }
   ],
   "source": [
    "import numpy as np\n",
    "import matplotlib.pyplot as plt\n",
    "import pandas as pd\n",
    "import rootTools as tap\n",
    "#import rootTools as tap"
   ]
  },
  {
   "cell_type": "code",
   "execution_count": 3,
   "metadata": {},
   "outputs": [],
   "source": [
    "fName = '/nfs/dust/belle2/user/kapitanl/Analysis/Thesis/Hist/datafortres.csv'\n",
    "#tupleDir = \"/pnfs/desy.de/belle/local/user/jkandra/MC13-04/B0toJPsiKStoEE/\"\n",
    "tupleDir = \"/nfs/dust/belle2/user/jkandra/MC13-04/B0toJPsiKStoEE/\""
   ]
  },
  {
   "cell_type": "code",
   "execution_count": 4,
   "metadata": {},
   "outputs": [],
   "source": [
    "import noteBookTools as nbt\n",
    "totDicts = nbt.getDictForBDT()\n",
    "listVars = [totDict['var'] for totDict in totDicts] + ['KFold', 'TagVLBoost', 'TagVmcLBoost', 'TagVLBoostErr']\n",
    "listFormulas = [totDict['form'] for totDict in totDicts] + ['__event__ % 2', 'TagVLBoost', 'TagVmcLBoost', 'TagVLBoostErr']\n",
    "\n",
    "totDictKins = nbt.getDictForBToDPi(\"B0toJPsiKStoEE\")\n",
    "listVarKins = [totDictKin['var'] for totDictKin in totDictKins]\n",
    "listFormulaKins = [totDictKin['form'] for totDictKin in totDictKins]"
   ]
  },
  {
   "cell_type": "code",
   "execution_count": 5,
   "metadata": {
    "scrolled": false
   },
   "outputs": [
    {
     "name": "stdout",
     "output_type": "stream",
     "text": [
      ".......... \n"
     ]
    }
   ],
   "source": [
    "#from root_pandas import read_root\n",
    "#Data = read_root(tupleDir+\"B0toJPsiKStoEE.root\", \"B0ToJPsi_eeKS_pipi\")\n",
    "Data = tap.getPandaFromFiles(fileNames=[tupleDir+\"B0toJPsiKStoEE.root\"],\n",
    "                               listVarFormulas=listFormulas + listFormulaKins,\n",
    "                               listVarNames=listVars + listVarKins, \n",
    "                               treeName=\"B0ToJPsi_eeKS_pipi\", cut=\"isSignal\")"
   ]
  },
  {
   "cell_type": "code",
   "execution_count": 6,
   "metadata": {},
   "outputs": [
    {
     "name": "stdout",
     "output_type": "stream",
     "text": [
      "362258\n",
      "362258\n",
      "[ 19.93380487   8.6604245   19.60908994 ... 100.78845546  70.14766801\n",
      "  22.02112228]\n"
     ]
    },
    {
     "data": {
      "image/png": "[encoded data removed]",
      "text/plain": [
       "<Figure size 432x288 with 1 Axes>"
      ]
     },
     "metadata": {
      "needs_background": "light"
     },
     "output_type": "display_data"
    }
   ],
   "source": [
    "vDatamc = Data[\"TagVmcLBoost\"].to_numpy()\n",
    "vData = Data[\"TagVLBoost\"].to_numpy()\n",
    "vDataRes = 1e4*np.subtract(vData,vDatamc)\n",
    "vSig = (1e4*Data[\"TagVLBoostErr\"]).to_numpy()\n",
    "\n",
    "print(vData.size)\n",
    "vData = vData[~np.isnan(vData)]\n",
    "print(vData.size)\n",
    "\n",
    "\n",
    "plt.hist(vDataRes, histtype='step', density = True, bins=np.linspace(-1, 1, 10))\n",
    "print(vDataRes)"
   ]
  },
  {
   "cell_type": "code",
   "execution_count": 7,
   "metadata": {},
   "outputs": [],
   "source": [
    "def gausInt(a, b, c, d):\n",
    "     m = d / c\n",
    "     s = 1./np.sqrt(c)\n",
    "     from math import erf\n",
    "     res = np.sqrt(np.pi)/(2*np.sqrt(c)) * (erf((b*c-d)/np.sqrt(c)) - erf((a*c-d)/np.sqrt(c)))\n",
    "     \n",
    "     return res\n",
    "\n",
    "def convExpGaus(sK, tau, x):\n",
    "     c = 1./(2*sK*sK)\n",
    "     d = 0.5*(x/sK/sK - 1/tau)\n",
    "     Const = 1./(np.sqrt(2*np.pi) *sK* tau) * np.exp(-1./2 * pow(x/sK,2) + d*d/c)\n",
    "     return Const * gausInt(0, 1e15, c, d);\n",
    "  \n",
    "def Gauss(x, mean, sigma):\n",
    "    f = 1./(np.sqrt(2*np.pi)*sigma) * np.exp( -1./2 * pow((x-mean)/sigma, 2))\n",
    "    return f\n",
    "\n",
    "def fun(x, pars):\n",
    "    fTMains = pars[\"fTMains\"]\n",
    "    fTR     = pars[\"fTR\"]\n",
    "    sigmas  = pars[\"sigmas\"]\n",
    "    cLMs    = pars[\"cLMs\"]\n",
    "    cRMs    = pars[\"cRMs\"]\n",
    "    mus     = pars[\"mus\"]\n",
    "    \n",
    "    bigSigmaFrac = pars['bigSigmaFrac']\n",
    "    fTBigs = pars['fTBigs']\n",
    "    bigSigmaScale = pars['bigSigmaScale']\n",
    "    cLBs = pars['cLBs']\n",
    "    cRBs = pars['cRBs']\n",
    "    \n",
    "    ret = 0\n",
    "    \n",
    "    # small gauss\n",
    "    ret += (1-bigSigmaFrac) * (1-fTMains) * Gauss(x, mean=mus, sigma=sigmas)\n",
    "    ret += (1-bigSigmaFrac) * fTMains*(1.-fTR)*convExpGaus(sigmas, 1./cLMs, mus - x)\n",
    "    ret += (1-bigSigmaFrac) * fTMains*(fTR)*convExpGaus(sigmas, 1./cRMs,  x - mus )\n",
    "    # big gauss\n",
    "    ret += bigSigmaFrac * (1-fTBigs) * Gauss(x, mean=mus, sigma=bigSigmaScale*sigmas)\n",
    "    ret += bigSigmaFrac * fTBigs*(1.-fTR)*convExpGaus(bigSigmaScale*sigmas, 1./cLBs, mus - x)\n",
    "    ret += bigSigmaFrac * fTBigs*(fTR)*convExpGaus(bigSigmaScale*sigmas, 1./cRBs,  x - mus )\n",
    "    \n",
    "    return ret\n",
    "\n",
    "\n"
   ]
  },
  {
   "cell_type": "code",
   "execution_count": 8,
   "metadata": {
    "scrolled": true
   },
   "outputs": [
    {
     "name": "stdout",
     "output_type": "stream",
     "text": [
      "Loading data grid\n",
      "Done\n"
     ]
    },
    {
     "name": "stderr",
     "output_type": "stream",
     "text": [
      "/nfs/dust/belle2/user/kapitanl/Analysis/Thesis/chebFitter/python/chebFitter.py:122: IMinuitWarning: errordef not set, using 1 (appropriate for least-squares)\n",
      "  m.migrad()  # run optimiser\n",
      "/cvmfs/belle.cern.ch/el7/externals/v01-09-01/Linux_x86_64/common/lib/python3.6/site-packages/ipykernel_launcher.py:12: RuntimeWarning: overflow encountered in exp\n",
      "  if sys.path[0] == '':\n",
      "/cvmfs/belle.cern.ch/el7/externals/v01-09-01/Linux_x86_64/common/lib/python3.6/site-packages/ipykernel_launcher.py:13: RuntimeWarning: invalid value encountered in double_scalars\n",
      "  del sys.path[0]\n",
      "/nfs/dust/belle2/user/kapitanl/Analysis/Thesis/chebFitter/python/chebFitter.py:31: RuntimeWarning: invalid value encountered in true_divide\n",
      "  fVals = -2 * np.log(fVals / Int)  # normalize by integral\n",
      "/nfs/dust/belle2/user/kapitanl/Analysis/Thesis/chebFitter/python/chebFitter.py:31: RuntimeWarning: divide by zero encountered in log\n",
      "  fVals = -2 * np.log(fVals / Int)  # normalize by integral\n"
     ]
    },
    {
     "name": "stdout",
     "output_type": "stream",
     "text": [
      "{'mus': 3.9732571094924154, 'sigmas': 25.640924560843196, 'fTMains': 0.3274639378658465, 'fTR': 0.7417179018382323, 'fTBigs': -1.192841679696661e-07, 'cLMs': 0.004414566974577102, 'cRMs': 0.0065340540379590405, 'cLBs': 0.049999999965751114, 'cRBs': 0.049999999348137085, 'bigSigmaScale': 3.0000000035790064, 'bigSigmaFrac': 0.28625733386796015}\n"
     ]
    }
   ],
   "source": [
    "import chebFitter as chf\n",
    "xLim = 500\n",
    "ch = chf.chebFitter(128 + 1, -xLim, xLim, vDataRes, fun)\n",
    "#pars = {\"mus\" : 0, \"sigmas\" : 30,  \"fTMains\" : 0.9, \"fTR\" : 0.5, \"fTBigs\":0.1, \"cLMs\" : 0.1, \"cRMs\" : 0.1, \"cLBs\":0.1, \"cRBs\":0.1, \"bigSigmaScale\":5, \"bigSigmaFrac\":0.1 }\n",
    "\n",
    "pars = {'mus': 3.9732571094924154, 'sigmas': 25.640924560843196,\n",
    "        'fTMains': 0.3274639378658465, 'fTR': 0.7417179018382323, \n",
    "        'fTBigs': 1.22925321033307e-08, 'cLMs': 0.004414566974577102,\n",
    "        'cRMs': 0.0065340540379590405, 'cLBs': 0.049999999965751114,\n",
    "        'cRBs': 0.049999999348137085, 'bigSigmaScale': 3.0000000035790064, \n",
    "        'bigSigmaFrac': 0.28625733386796015}\n",
    "Limits = { \n",
    "        'mus': (-10, 10),\n",
    "        'sigmas': (10, 40),\n",
    "        'fTMains': (0, 1),\n",
    "        'fTR': (0, 1),\n",
    "        'cLMs': (1e-5, 0.1),\n",
    "        'cRMs': (1e-5, 0.1),\n",
    "         \"bigSigmaScale\": (3, 40),\n",
    "        'bigSigmaFrac' : (0,1),\n",
    "        'fTBigs' : (0,1),\n",
    "        'cLBs' : (1e-5, 0.05),\n",
    "        'cRBs' : (1e-5, 0.05)\n",
    "        }\n",
    "\n",
    "res =  ch.fitData(pars)\n",
    "print(res)\n"
   ]
  },
  {
   "cell_type": "code",
   "execution_count": null,
   "metadata": {},
   "outputs": [],
   "source": [
    "def plotHist(d, bins, chFit, res):\n",
    "    vals, bins = np.histogram(d, bins)\n",
    "    xCnt  = (bins[1:] + bins[:-1]) / 2\n",
    "    xSize = (bins[1:] - bins[:-1]) / 2\n",
    "    \n",
    "    fig, axs = plt.subplots(2, sharex=True, gridspec_kw={'hspace': 0, 'height_ratios':[16,3]}, figsize=(12,8))\n",
    "    axs[0].set_yscale('log')\n",
    "    axs[0].errorbar(xCnt, vals, xerr=xSize, yerr=np.sqrt(vals), ls='none', fmt=\"o\")\n",
    "    \n",
    "    N = np.dot(vals, 2*xSize) \n",
    "    x = np.linspace(bins[0], bins[-1], 500)\n",
    "    y = N * chFit.funFast(x, res)\n",
    "    \n",
    "    axs[0].plot(x, y, label ='B0toJPsiKStoEE')\n",
    "    axs[0].legend(loc='upper right', shadow=True, fontsize='x-large')\n",
    "    # plotRatio\n",
    "    yRat= N * chFit.funFast(xCnt, res) \n",
    "    axs[1].errorbar(xCnt, vals/ yRat, xerr=xSize, yerr=np.sqrt(vals)/yRat, ls='none', fmt=\"o\")\n",
    "\n",
    "    dirName = \"/nfs/dust/belle2/user/kapitanl/Analysis/Thesis/Hist/\"\n",
    "    fig.savefig(dirName+\"B0toJPsiKStoEE_deltat1D.png\", bbox_inches='tight')\n",
    "\n",
    "\n",
    "    "
   ]
  },
  {
   "cell_type": "code",
   "execution_count": null,
   "metadata": {
    "scrolled": false
   },
   "outputs": [],
   "source": [
    "plotHist(vDataRes, np.linspace(-xLim, xLim, 200), ch, res)\n"
   ]
  },
  {
   "cell_type": "code",
   "execution_count": null,
   "metadata": {},
   "outputs": [],
   "source": []
  },
  {
   "cell_type": "code",
   "execution_count": null,
   "metadata": {},
   "outputs": [],
   "source": []
  }
 ],
 "metadata": {
  "kernelspec": {
   "display_name": "Python 3 (Belle2)",
   "language": "python",
   "name": "python3"
  },
  "language_info": {
   "codemirror_mode": {
    "name": "ipython",
    "version": 3
   },
   "file_extension": ".py",
   "mimetype": "text/x-python",
   "name": "python",
   "nbconvert_exporter": "python",
   "pygments_lexer": "ipython3",
   "version": "3.6.10"
  }
 },
 "nbformat": 4,
 "nbformat_minor": 4
}
